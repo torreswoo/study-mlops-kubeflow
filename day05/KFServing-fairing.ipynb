{
 "cells": [
  {
   "cell_type": "code",
   "execution_count": 1,
   "metadata": {},
   "outputs": [],
   "source": [
    "from kubernetes import client\n",
    "from kfserving import KFServingClient\n",
    "from kfserving import constants\n",
    "from kfserving import utils\n",
    "from kfserving import V1alpha2EndpointSpec\n",
    "from kfserving import V1alpha2PredictorSpec\n",
    "from kfserving import V1alpha2TensorflowSpec\n",
    "from kfserving import V1alpha2InferenceServiceSpec\n",
    "from kfserving import V1alpha2InferenceService\n",
    "from kubernetes.client import V1ResourceRequirements\n",
    "import os\n",
    "import sys\n",
    "import argparse\n",
    "import logging\n",
    "import time\n"
   ]
  },
  {
   "cell_type": "code",
   "execution_count": 2,
   "metadata": {},
   "outputs": [],
   "source": [
    "class KFServing(object):\n",
    "    def run(self):\n",
    "        parser = argparse.ArgumentParser()\n",
    "        parser.add_argument('--namespace', required=False, default='kubeflow')\n",
    "        # pvc://${PVCNAME}/dir\n",
    "        parser.add_argument('--storage_uri', required=False, default='/mnt/export')\n",
    "        parser.add_argument('--name', required=False, default='kfserving-sample')        \n",
    "        args = parser.parse_args()\n",
    "        namespace = args.namespace\n",
    "        serving_name =  args.name\n",
    "        \n",
    "        api_version = constants.KFSERVING_GROUP + '/' + constants.KFSERVING_VERSION\n",
    "        default_endpoint_spec = V1alpha2EndpointSpec(\n",
    "                                  predictor=V1alpha2PredictorSpec(\n",
    "                                    tensorflow=V1alpha2TensorflowSpec(\n",
    "                                      storage_uri=args.storage_uri,\n",
    "                                      resources=V1ResourceRequirements(\n",
    "                                          requests={'cpu':'100m','memory':'1Gi'},\n",
    "                                          limits={'cpu':'100m', 'memory':'1Gi'}))))\n",
    "        isvc = V1alpha2InferenceService(api_version=api_version,\n",
    "                                  kind=constants.KFSERVING_KIND,\n",
    "                                  metadata=client.V1ObjectMeta(\n",
    "                                      name=serving_name, namespace=namespace),\n",
    "                                  spec=V1alpha2InferenceServiceSpec(default=default_endpoint_spec))        \n",
    "        \n",
    "        KFServing = KFServingClient()\n",
    "        KFServing.create(isvc)\n",
    "        print('waiting 5 sec for Creating InferenceService')\n",
    "        time.sleep(5)\n",
    "        \n",
    "        KFServing.get(serving_name, namespace=namespace, watch=True, timeout_seconds=300)"
   ]
  },
  {
   "cell_type": "code",
   "execution_count": 3,
   "metadata": {},
   "outputs": [
    {
     "name": "stderr",
     "output_type": "stream",
     "text": [
      "[W 200926 22:43:04 append:50] Building image using Append builder...\n",
      "[I 200926 22:43:04 base:107] Creating docker context: /tmp/fairing_context_3rnvflcu\n",
      "[I 200926 22:43:04 converted_notebook:127] Converting KFServing-fairing.ipynb to KFServing-fairing.py\n",
      "[I 200926 22:43:04 docker_creds_:234] Loading Docker credentials for repository 'brightfly/kubeflow-kfserving:latest'\n",
      "[W 200926 22:43:08 append:54] Image successfully built in 4.026381497998955s.\n",
      "[W 200926 22:43:08 append:94] Pushing image kubeflow-registry.default.svc.cluster.local:30000/kfserving:66D8C086...\n",
      "[I 200926 22:43:08 docker_creds_:234] Loading Docker credentials for repository 'kubeflow-registry.default.svc.cluster.local:30000/kfserving:66D8C086'\n",
      "[W 200926 22:43:08 append:81] Uploading kubeflow-registry.default.svc.cluster.local:30000/kfserving:66D8C086\n",
      "[I 200926 22:43:08 docker_session_:284] Layer sha256:0ba60c987208fe04865070e5200b6d43a0f1b80a8221262e14b87bd2b55fdaa1 pushed.\n",
      "[I 200926 22:43:10 docker_session_:284] Layer sha256:87b2c33457cb85bf8ea16ce26c1496cdb8d2627237b551c3eeb90a9aa8fd0aed pushed.\n",
      "[I 200926 22:43:24 docker_session_:284] Layer sha256:c513d77460ba16f23ee2eb25f8a99c95b5bd67959caa8d1a95d241c793a0ed05 pushed.\n",
      "[I 200926 22:43:25 docker_session_:284] Layer sha256:e22d582af9212277fcf93cf23dbd4e64486e6d4c66d4e0da5bbcc5023088b86c pushed.\n",
      "[I 200926 22:43:28 docker_session_:284] Layer sha256:ca7e1bbea389949863f72a88b675dd8f888f40a79be6573c1e2f0095335e68ab pushed.\n",
      "[I 200926 22:43:32 docker_session_:284] Layer sha256:d918eaefd9de8a1595f56900fdb8ab65a03d64b1da1078da7c0b0bf6f7552a14 pushed.\n",
      "[I 200926 22:43:33 docker_session_:284] Layer sha256:a2d410a0f39cff43a6ad7c800424f6c9dad59813cbde66b65f229e04d6655775 pushed.\n",
      "[I 200926 22:43:35 docker_session_:284] Layer sha256:59b774443140f464249d4af7a526ecee8c2476bad1e5c5c15d74707b5b2b7227 pushed.\n",
      "[I 200926 22:43:36 docker_session_:284] Layer sha256:772bb01b5acf1c08f32de033c32c9f807d047164867a11ffdc96669762b29725 pushed.\n",
      "[I 200926 22:43:38 docker_session_:284] Layer sha256:a667b2dd2f883977fa9a4eb368637cb2e6dc8d1d59407c6a00188a3df8b62e6f pushed.\n",
      "[I 200926 22:43:38 docker_session_:284] Layer sha256:43bf3e3107f525b7dea5b3cdfd15f62666066202105a0aaddbab2a02aefad1f7 pushed.\n",
      "[I 200926 22:43:50 docker_session_:284] Layer sha256:8f94a3a4572995fbbfcb21a5ad2796af7329e8d90a8bf97f615e14a99d848213 pushed.\n",
      "[I 200926 22:43:52 docker_session_:284] Layer sha256:d391d47713783ed4de6f856d63d4192240e9c93d782b158284aedc307cbe4fb6 pushed.\n",
      "[I 200926 22:44:00 docker_session_:284] Layer sha256:04de2638d2c074bedb4d1195ea9894e67a647b0f076702afce5a9e6f811b0f40 pushed.\n",
      "[I 200926 22:44:26 docker_session_:284] Layer sha256:5bf324b442328ad6fb1825b37923ad8850e8bc148e9cbfbd0971f951f5f12a81 pushed.\n",
      "[I 200926 22:45:38 docker_session_:284] Layer sha256:27622921edb2aae9e0cb64f71a81b4a7cfef8f6a6c766514a018815834ba4e14 pushed.\n",
      "[I 200926 22:45:49 docker_session_:284] Layer sha256:8f0fdd3eaac017684c880d836abdaf02f9db7ac8ecca970356482e3d8e315650 pushed.\n",
      "[I 200926 22:51:08 docker_session_:284] Layer sha256:fcb6b3d82de6c9870be99da3b3aba1ee9ae6fd451f58a349297c90d5a12620e1 pushed.\n",
      "[I 200926 22:51:13 docker_session_:284] Layer sha256:5067aa3d4931716bd5b3473f05f31513fa4a124c03db0a51f6d7baf2a16f700b pushed.\n",
      "[I 200926 22:52:47 docker_session_:284] Layer sha256:dcfa0aa1ae2c54d0de4b6ad0ee4d9f795c93368ae7d87801784c1f8ae624ac33 pushed.\n",
      "[I 200926 22:52:47 docker_session_:334] Finished upload of: kubeflow-registry.default.svc.cluster.local:30000/kfserving:66D8C086\n",
      "[W 200926 22:52:47 append:99] Pushed image kubeflow-registry.default.svc.cluster.local:30000/kfserving:66D8C086 in 579.1025857729837s.\n"
     ]
    }
   ],
   "source": [
    "if __name__ == '__main__':\n",
    "    if os.getenv('FAIRING_RUNTIME', None) is None:\n",
    "        from kubeflow.fairing.builders.append.append import AppendBuilder\n",
    "        from kubeflow.fairing.preprocessors.converted_notebook import \\\n",
    "            ConvertNotebookPreprocessor\n",
    "\n",
    "        DOCKER_REGISTRY = 'kubeflow-registry.default.svc.cluster.local:30000'\n",
    "        base_image = 'brightfly/kubeflow-kfserving:latest'\n",
    "        image_name = 'kfserving'\n",
    "\n",
    "        builder = AppendBuilder(\n",
    "            registry=DOCKER_REGISTRY,\n",
    "            image_name=image_name,\n",
    "            base_image=base_image,\n",
    "            push=True,\n",
    "            preprocessor=ConvertNotebookPreprocessor(\n",
    "                notebook_file=\"KFServing-fairing.ipynb\"\n",
    "            )\n",
    "        )\n",
    "        builder.build()\n",
    "    else:\n",
    "        serving = KFServing()\n",
    "        serving.run()"
   ]
  },
  {
   "cell_type": "code",
   "execution_count": null,
   "metadata": {},
   "outputs": [],
   "source": []
  }
 ],
 "metadata": {
  "kernelspec": {
   "display_name": "Python 3",
   "language": "python",
   "name": "python3"
  },
  "language_info": {
   "codemirror_mode": {
    "name": "ipython",
    "version": 3
   },
   "file_extension": ".py",
   "mimetype": "text/x-python",
   "name": "python",
   "nbconvert_exporter": "python",
   "pygments_lexer": "ipython3",
   "version": "3.6.12"
  }
 },
 "nbformat": 4,
 "nbformat_minor": 4
}
