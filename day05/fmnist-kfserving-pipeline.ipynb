{
 "cells": [
  {
   "cell_type": "code",
   "execution_count": 1,
   "metadata": {},
   "outputs": [],
   "source": [
    "import kfp\n",
    "import kfp.dsl as dsl\n",
    "import kfp.onprem as onprem\n",
    "import kfp.components as comp"
   ]
  },
  {
   "cell_type": "code",
   "execution_count": 2,
   "metadata": {},
   "outputs": [],
   "source": [
    "def echo_op(text):\n",
    "    return dsl.ContainerOp(\n",
    "        name='echo',\n",
    "        image='library/bash:4.4.23',\n",
    "        command=['sh', '-c'],\n",
    "        arguments=['echo \"$0\"', text],\n",
    "    )  "
   ]
  },
  {
   "cell_type": "code",
   "execution_count": 4,
   "metadata": {},
   "outputs": [],
   "source": [
    "@dsl.pipeline(\n",
    "    name='FMnistPipeline',\n",
    "    description='mnist '\n",
    ")\n",
    "def fmnist_pipeline(learning_rate, dropout_rate, epoch, act, layer,  \n",
    "                    checkpoint_dir, saved_model_dir, pvc_name, tensorboard_log,\n",
    "                    name, model_version, namespace):\n",
    "  \n",
    "    exit_task = echo_op(\"Done!\")\n",
    "    \n",
    "    with dsl.ExitHandler(exit_task): \n",
    "\n",
    "        kubeflow_pvc = dsl.PipelineVolume(pvc=str(pvc_name))\n",
    "        \n",
    "        mnist = dsl.ContainerOp(\n",
    "            name='FMnist',\n",
    "            image='kubeflow-registry.default.svc.cluster.local:30000/katib-job:5FEC6E94',\n",
    "            command=['python', '/app/fmnist-save-model.py'],\n",
    "            arguments=[\n",
    "                \"--learning_rate\", learning_rate,\n",
    "                \"--dropout_rate\", dropout_rate,\n",
    "                \"--epoch\", epoch,\n",
    "                \"--act\", act,\n",
    "                \"--layer\", layer,\n",
    "                \"--checkpoint_dir\", checkpoint_dir,\n",
    "                \"--saved_model_dir\", saved_model_dir,\n",
    "                \"--model_version\", model_version,\n",
    "                \"--tensorboard_log\", tensorboard_log\n",
    "            ],\n",
    "            pvolumes={\"/result\": kubeflow_pvc}\n",
    "        ).set_gpu_limit(1)\n",
    "        \n",
    "        result = dsl.ContainerOp(\n",
    "            name='list_list',\n",
    "            image='library/bash:4.4.23',\n",
    "            command=['ls', '-R', '/result'],\n",
    "            pvolumes={\"/result\": mnist.pvolume}\n",
    "        )\n",
    "        \n",
    "        kfserving = dsl.ContainerOp(\n",
    "            name='kfserving',\n",
    "            image='kubeflow-registry.default.svc.cluster.local:30000/kfserving:66D8C086',\n",
    "            command=['python', '/app/KFServing-fairing.py'],\n",
    "            arguments=[\n",
    "                \"--namespace\", namespace,\n",
    "                \"--storage_uri\", \"pvc://\" +  str(pvc_name) + \"/saved_model\",\n",
    "                \"--name\", name\n",
    "            ]\n",
    "        )        \n",
    "                \n",
    "        result.after(mnist)\n",
    "        kfserving.after(result)"
   ]
  },
  {
   "cell_type": "code",
   "execution_count": 5,
   "metadata": {},
   "outputs": [],
   "source": [
    "arguments = {'learning_rate': '0.001397',\n",
    "             'dropout_rate': '0.18',\n",
    "             'epoch' : '11',\n",
    "             'act' : 'sigmoid',\n",
    "             'layer': '2',\n",
    "             'checkpoint_dir': '/reuslt/training_checkpoints',\n",
    "             'saved_model_dir':'/result/saved_model/',\n",
    "             'pvc_name' : 'kubeflow-pvc',\n",
    "             'tensorboard_log': '/result/log',\n",
    "             'name' : 'kfserving-fmnist',\n",
    "             'model_version' : '0001',\n",
    "             'namespace' : 'kubeflow'\n",
    "            }"
   ]
  },
  {
   "cell_type": "code",
   "execution_count": 6,
   "metadata": {},
   "outputs": [
    {
     "data": {
      "text/html": [
       "Experiment link <a href=\"/pipeline/#/experiments/details/2752bf8c-4fc9-42a2-83f3-5c4f0245945b\" target=\"_blank\" >here</a>"
      ],
      "text/plain": [
       "<IPython.core.display.HTML object>"
      ]
     },
     "metadata": {},
     "output_type": "display_data"
    },
    {
     "data": {
      "text/html": [
       "Run link <a href=\"/pipeline/#/runs/details/b512aaeb-3612-47f9-b6dc-e753e1bdeb27\" target=\"_blank\" >here</a>"
      ],
      "text/plain": [
       "<IPython.core.display.HTML object>"
      ]
     },
     "metadata": {},
     "output_type": "display_data"
    }
   ],
   "source": [
    "if __name__ == '__main__':\n",
    "    kfp.Client().create_run_from_pipeline_func(pipeline_func=fmnist_pipeline, \n",
    "                                               arguments=arguments)"
   ]
  },
  {
   "cell_type": "code",
   "execution_count": null,
   "metadata": {},
   "outputs": [],
   "source": []
  }
 ],
 "metadata": {
  "kernelspec": {
   "display_name": "Python 3",
   "language": "python",
   "name": "python3"
  },
  "language_info": {
   "codemirror_mode": {
    "name": "ipython",
    "version": 3
   },
   "file_extension": ".py",
   "mimetype": "text/x-python",
   "name": "python",
   "nbconvert_exporter": "python",
   "pygments_lexer": "ipython3",
   "version": "3.6.12"
  }
 },
 "nbformat": 4,
 "nbformat_minor": 4
}
