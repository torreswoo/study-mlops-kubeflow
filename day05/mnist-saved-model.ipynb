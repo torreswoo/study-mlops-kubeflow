{
 "cells": [
  {
   "cell_type": "code",
   "execution_count": 5,
   "metadata": {},
   "outputs": [],
   "source": [
    "import os\n",
    "import tensorflow as tf\n",
    "import argparse\n",
    "from tensorflow.python.keras.callbacks import Callback"
   ]
  },
  {
   "cell_type": "code",
   "execution_count": null,
   "metadata": {},
   "outputs": [],
   "source": [
    "!pip install kfserving="
   ]
  },
  {
   "cell_type": "code",
   "execution_count": 6,
   "metadata": {},
   "outputs": [],
   "source": [
    "class MyModel(object):\n",
    "    def train(self):\n",
    "        mnist = tf.keras.datasets.mnist\n",
    "        # 입력 값을 받게 추가합니다.\n",
    "        parser = argparse.ArgumentParser()\n",
    "        parser.add_argument('--learning_rate', required=False, type=float, default=0.001)\n",
    "        parser.add_argument('--dropout_rate', required=False, type=float, default=0.3)\n",
    "        parser.add_argument('--opt', required=False, type=int, default=1)\n",
    "        parser.add_argument('--checkpoint_dir', required=False, default='/reuslt/training_checkpoints')\n",
    "        parser.add_argument('--saved_model_dir', required=False, default='/result/saved_model/001')\n",
    "        parser.add_argument('--tensorboard_log', required=False, default='/result/log')\n",
    "        args = parser.parse_args()\n",
    "        \n",
    "        (x_train, y_train), (x_test, y_test) = mnist.load_data()\n",
    "        x_train, x_test = x_train / 255.0, x_test / 255.0\n",
    "        \n",
    "        model = tf.keras.models.Sequential([\n",
    "            tf.keras.layers.Flatten(input_shape=(28, 28)),\n",
    "            tf.keras.layers.Dense(128, activation='relu'),\n",
    "            tf.keras.layers.Dropout(args.dropout_rate),\n",
    "            tf.keras.layers.Dense(10, activation='softmax')\n",
    "        ])\n",
    "        model.summary()\n",
    "        \n",
    "        sgd = tf.keras.optimizers.SGD(lr=args.learning_rate)\n",
    "        adam = tf.keras.optimizers.Adam(lr=args.learning_rate)\n",
    "        optimizers= [sgd, adam]\n",
    "        model.compile(optimizer=optimizers[args.opt],\n",
    "                      loss='sparse_categorical_crossentropy',\n",
    "                      metrics=['acc'])\n",
    "        # 체크포인트를 저장할 체크포인트 디렉터리를 지정합니다.\n",
    "        checkpoint_dir = args.checkpoint_dir\n",
    "        # 체크포인트 파일의 이름\n",
    "        checkpoint_prefix = os.path.join(checkpoint_dir, \"ckpt_{epoch}\")\n",
    "        \n",
    "        model.fit(x_train, y_train,\n",
    "                  verbose=0,\n",
    "                  validation_data=(x_test, y_test),\n",
    "                  epochs=5,\n",
    "                  callbacks=[KatibMetricLog(),\n",
    "                             tf.keras.callbacks.TensorBoard(log_dir=args.tensorboard_log),\n",
    "                             tf.keras.callbacks.ModelCheckpoint(filepath=checkpoint_prefix,\n",
    "                                                                save_weights_only=True)\n",
    "                            ])\n",
    "        path = args.saved_model_dir\n",
    "        model.save(path, save_format='tf')"
   ]
  },
  {
   "cell_type": "code",
   "execution_count": 7,
   "metadata": {},
   "outputs": [],
   "source": [
    "class KatibMetricLog(Callback):\n",
    "    def on_batch_end(self, batch, logs={}):\n",
    "        print(\"batch\", str(batch),\n",
    "              \"accuracy=\" + str(logs.get('acc')),\n",
    "              \"loss=\" + str(logs.get('loss')))\n",
    "    \n",
    "    def on_epoch_begin(self, epoch, logs={}):\n",
    "        print(\"epoch \" + str(epoch) + \":\")\n",
    "    \n",
    "    def on_epoch_end(self, epoch, logs={}):\n",
    "        print(\"Validation-accuracy=\" + str(logs.get('val_acc')),\n",
    "              \"Validation-loss=\" + str(logs.get('val_loss')))\n",
    "        return"
   ]
  },
  {
   "cell_type": "code",
   "execution_count": 8,
   "metadata": {},
   "outputs": [
    {
     "ename": "ImportError",
     "evalue": "cannot import name 'V1alpha2TensorRTSpec'",
     "output_type": "error",
     "traceback": [
      "\u001b[0;31m---------------------------------------------------------------------------\u001b[0m",
      "\u001b[0;31mImportError\u001b[0m                               Traceback (most recent call last)",
      "\u001b[0;32m<ipython-input-8-abba0386f9be>\u001b[0m in \u001b[0;36m<module>\u001b[0;34m\u001b[0m\n\u001b[1;32m      1\u001b[0m \u001b[0;32mif\u001b[0m \u001b[0m__name__\u001b[0m \u001b[0;34m==\u001b[0m \u001b[0;34m'__main__'\u001b[0m\u001b[0;34m:\u001b[0m\u001b[0;34m\u001b[0m\u001b[0;34m\u001b[0m\u001b[0m\n\u001b[1;32m      2\u001b[0m     \u001b[0;32mif\u001b[0m \u001b[0mos\u001b[0m\u001b[0;34m.\u001b[0m\u001b[0mgetenv\u001b[0m\u001b[0;34m(\u001b[0m\u001b[0;34m'FAIRING_RUNTIME'\u001b[0m\u001b[0;34m,\u001b[0m \u001b[0;32mNone\u001b[0m\u001b[0;34m)\u001b[0m \u001b[0;32mis\u001b[0m \u001b[0;32mNone\u001b[0m\u001b[0;34m:\u001b[0m\u001b[0;34m\u001b[0m\u001b[0;34m\u001b[0m\u001b[0m\n\u001b[0;32m----> 3\u001b[0;31m         \u001b[0;32mfrom\u001b[0m \u001b[0mkubeflow\u001b[0m \u001b[0;32mimport\u001b[0m \u001b[0mfairing\u001b[0m\u001b[0;34m\u001b[0m\u001b[0;34m\u001b[0m\u001b[0m\n\u001b[0m\u001b[1;32m      4\u001b[0m         \u001b[0;32mfrom\u001b[0m \u001b[0mkubeflow\u001b[0m\u001b[0;34m.\u001b[0m\u001b[0mfairing\u001b[0m\u001b[0;34m.\u001b[0m\u001b[0mkubernetes\u001b[0m \u001b[0;32mimport\u001b[0m \u001b[0mutils\u001b[0m \u001b[0;32mas\u001b[0m \u001b[0mk8s_utils\u001b[0m\u001b[0;34m\u001b[0m\u001b[0;34m\u001b[0m\u001b[0m\n\u001b[1;32m      5\u001b[0m \u001b[0;34m\u001b[0m\u001b[0m\n",
      "\u001b[0;32m/usr/local/lib/python3.6/site-packages/kubeflow/fairing/__init__.py\u001b[0m in \u001b[0;36m<module>\u001b[0;34m\u001b[0m\n\u001b[1;32m      5\u001b[0m     \u001b[0;32mfrom\u001b[0m \u001b[0mkubeflow\u001b[0m\u001b[0;34m.\u001b[0m\u001b[0mfairing\u001b[0m\u001b[0;34m.\u001b[0m\u001b[0mruntime_config\u001b[0m \u001b[0;32mimport\u001b[0m \u001b[0mconfig\u001b[0m\u001b[0;34m\u001b[0m\u001b[0;34m\u001b[0m\u001b[0m\n\u001b[1;32m      6\u001b[0m \u001b[0;32melse\u001b[0m\u001b[0;34m:\u001b[0m\u001b[0;34m\u001b[0m\u001b[0;34m\u001b[0m\u001b[0m\n\u001b[0;32m----> 7\u001b[0;31m     \u001b[0;32mfrom\u001b[0m \u001b[0mkubeflow\u001b[0m\u001b[0;34m.\u001b[0m\u001b[0mfairing\u001b[0m\u001b[0;34m.\u001b[0m\u001b[0mconfig\u001b[0m \u001b[0;32mimport\u001b[0m \u001b[0mconfig\u001b[0m\u001b[0;34m\u001b[0m\u001b[0;34m\u001b[0m\u001b[0m\n\u001b[0m\u001b[1;32m      8\u001b[0m \u001b[0;34m\u001b[0m\u001b[0m\n\u001b[1;32m      9\u001b[0m \u001b[0mname\u001b[0m \u001b[0;34m=\u001b[0m \u001b[0;34m\"fairing\"\u001b[0m\u001b[0;34m\u001b[0m\u001b[0;34m\u001b[0m\u001b[0m\n",
      "\u001b[0;32m/usr/local/lib/python3.6/site-packages/kubeflow/fairing/config.py\u001b[0m in \u001b[0;36m<module>\u001b[0;34m\u001b[0m\n\u001b[1;32m     14\u001b[0m \u001b[0;32mfrom\u001b[0m \u001b[0mkubeflow\u001b[0m\u001b[0;34m.\u001b[0m\u001b[0mfairing\u001b[0m\u001b[0;34m.\u001b[0m\u001b[0mdeployers\u001b[0m\u001b[0;34m.\u001b[0m\u001b[0mpytorchjob\u001b[0m\u001b[0;34m.\u001b[0m\u001b[0mpytorchjob\u001b[0m \u001b[0;32mimport\u001b[0m \u001b[0mPyTorchJob\u001b[0m\u001b[0;34m\u001b[0m\u001b[0;34m\u001b[0m\u001b[0m\n\u001b[1;32m     15\u001b[0m \u001b[0;32mfrom\u001b[0m \u001b[0mkubeflow\u001b[0m\u001b[0;34m.\u001b[0m\u001b[0mfairing\u001b[0m\u001b[0;34m.\u001b[0m\u001b[0mdeployers\u001b[0m\u001b[0;34m.\u001b[0m\u001b[0mgcp\u001b[0m\u001b[0;34m.\u001b[0m\u001b[0mgcp\u001b[0m \u001b[0;32mimport\u001b[0m \u001b[0mGCPJob\u001b[0m\u001b[0;34m\u001b[0m\u001b[0;34m\u001b[0m\u001b[0m\n\u001b[0;32m---> 16\u001b[0;31m \u001b[0;32mfrom\u001b[0m \u001b[0mkubeflow\u001b[0m\u001b[0;34m.\u001b[0m\u001b[0mfairing\u001b[0m\u001b[0;34m.\u001b[0m\u001b[0mdeployers\u001b[0m\u001b[0;34m.\u001b[0m\u001b[0mkfserving\u001b[0m\u001b[0;34m.\u001b[0m\u001b[0mkfserving\u001b[0m \u001b[0;32mimport\u001b[0m \u001b[0mKFServing\u001b[0m\u001b[0;34m\u001b[0m\u001b[0;34m\u001b[0m\u001b[0m\n\u001b[0m\u001b[1;32m     17\u001b[0m \u001b[0;34m\u001b[0m\u001b[0m\n\u001b[1;32m     18\u001b[0m \u001b[0;32mfrom\u001b[0m \u001b[0mkubeflow\u001b[0m\u001b[0;34m.\u001b[0m\u001b[0mfairing\u001b[0m\u001b[0;34m.\u001b[0m\u001b[0mnotebook\u001b[0m \u001b[0;32mimport\u001b[0m \u001b[0mnotebook_util\u001b[0m\u001b[0;34m\u001b[0m\u001b[0;34m\u001b[0m\u001b[0m\n",
      "\u001b[0;32m/usr/local/lib/python3.6/site-packages/kubeflow/fairing/deployers/kfserving/kfserving.py\u001b[0m in \u001b[0;36m<module>\u001b[0;34m\u001b[0m\n\u001b[1;32m     24\u001b[0m \u001b[0;32mfrom\u001b[0m \u001b[0mkfserving\u001b[0m \u001b[0;32mimport\u001b[0m \u001b[0mV1alpha2PyTorchSpec\u001b[0m\u001b[0;34m\u001b[0m\u001b[0;34m\u001b[0m\u001b[0m\n\u001b[1;32m     25\u001b[0m \u001b[0;32mfrom\u001b[0m \u001b[0mkfserving\u001b[0m \u001b[0;32mimport\u001b[0m \u001b[0mV1alpha2SKLearnSpec\u001b[0m\u001b[0;34m\u001b[0m\u001b[0;34m\u001b[0m\u001b[0m\n\u001b[0;32m---> 26\u001b[0;31m \u001b[0;32mfrom\u001b[0m \u001b[0mkfserving\u001b[0m \u001b[0;32mimport\u001b[0m \u001b[0mV1alpha2TensorRTSpec\u001b[0m\u001b[0;34m\u001b[0m\u001b[0;34m\u001b[0m\u001b[0m\n\u001b[0m\u001b[1;32m     27\u001b[0m \u001b[0;32mfrom\u001b[0m \u001b[0mkfserving\u001b[0m \u001b[0;32mimport\u001b[0m \u001b[0mV1alpha2XGBoostSpec\u001b[0m\u001b[0;34m\u001b[0m\u001b[0;34m\u001b[0m\u001b[0m\n\u001b[1;32m     28\u001b[0m \u001b[0;32mfrom\u001b[0m \u001b[0mkfserving\u001b[0m \u001b[0;32mimport\u001b[0m \u001b[0mV1alpha2CustomSpec\u001b[0m\u001b[0;34m\u001b[0m\u001b[0;34m\u001b[0m\u001b[0m\n",
      "\u001b[0;31mImportError\u001b[0m: cannot import name 'V1alpha2TensorRTSpec'"
     ]
    }
   ],
   "source": [
    "if __name__ == '__main__':\n",
    "    if os.getenv('FAIRING_RUNTIME', None) is None:\n",
    "        from kubeflow import fairing\n",
    "        from kubeflow.fairing.kubernetes import utils as k8s_utils\n",
    "\n",
    "        DOCKER_REGISTRY = 'kubeflow-registry.default.svc.cluster.local:30000'\n",
    "        fairing.config.set_builder(\n",
    "            'append',\n",
    "            image_name='katib-job',\n",
    "            base_image='kubeflow-registry.default.svc.cluster.local:30000/kubeflow-jupyterlab:tf2.3-cpu',\n",
    "            registry=DOCKER_REGISTRY,\n",
    "            push=True)\n",
    "        # cpu 1, memory 1GiB\n",
    "        fairing.config.set_deployer('job',\n",
    "                                    namespace='koock',\n",
    "                                    pod_spec_mutators=[\n",
    "                                        k8s_utils.mounting_pvc(pvc_name=\"workspace-lecture-tf\", \n",
    "                                                              pvc_mount_path=\"/result\"),\n",
    "                                        k8s_utils.get_resource_mutator(cpu=2,\n",
    "                                                                       memory=5)]\n",
    "                                    )\n",
    "        # python3\n",
    "        #fairing.config.set_preprocessor('python', input_files=[__file__])\n",
    "        fairing.config.run()\n",
    "    else:\n",
    "        remote_train = MyModel()\n",
    "        remote_train.train()"
   ]
  },
  {
   "cell_type": "code",
   "execution_count": null,
   "metadata": {},
   "outputs": [],
   "source": []
  }
 ],
 "metadata": {
  "kernelspec": {
   "display_name": "Python 3",
   "language": "python",
   "name": "python3"
  },
  "language_info": {
   "codemirror_mode": {
    "name": "ipython",
    "version": 3
   },
   "file_extension": ".py",
   "mimetype": "text/x-python",
   "name": "python",
   "nbconvert_exporter": "python",
   "pygments_lexer": "ipython3",
   "version": "3.6.12"
  }
 },
 "nbformat": 4,
 "nbformat_minor": 4
}
