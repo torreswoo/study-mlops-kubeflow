{
 "cells": [
  {
   "cell_type": "code",
   "execution_count": 1,
   "metadata": {},
   "outputs": [],
   "source": [
    "import tensorflow as tf\n",
    "import os\n",
    "import argparse\n",
    "from tensorflow.python.keras.callbacks import Callback"
   ]
  },
  {
   "cell_type": "code",
   "execution_count": 2,
   "metadata": {},
   "outputs": [],
   "source": [
    "class MyFashionMnist(object):\n",
    "  def train(self):\n",
    "    \n",
    "    parser = argparse.ArgumentParser()\n",
    "    parser.add_argument('--learning_rate', required=False, type=float, default=0.001)\n",
    "    parser.add_argument('--dropout_rate', required=False, type=float, default=0.3)\n",
    "    parser.add_argument('--epoch', required=False, type=int, default=5)    \n",
    "    parser.add_argument('--act', required=False, type=str, default='relu')        \n",
    "    parser.add_argument('--layer', required=False, type=int, default=1)      \n",
    "    parser.add_argument('--model_version', required=False, type=str, default='0001')    \n",
    "    parser.add_argument('--checkpoint_dir', required=False, default='/reuslt/training_checkpoints')\n",
    "    parser.add_argument('--saved_model_dir', required=False, default='/result/saved_model')        \n",
    "    parser.add_argument('--tensorboard_log', required=False, default='/result/log')     \n",
    "    args = parser.parse_args()    \n",
    "    \n",
    "    (x_train, y_train), (x_test, y_test) = tf.keras.datasets.fashion_mnist.load_data()\n",
    "    x_train, x_test = x_train / 255.0, x_test / 255.0\n",
    "\n",
    "    model = tf.keras.models.Sequential()\n",
    "    model.add(tf.keras.layers.Flatten(input_shape=(28, 28)))\n",
    "    \n",
    "    for i in range(int(args.layer)):    \n",
    "        model.add(tf.keras.layers.Dense(128, activation=args.act))\n",
    "        if(i > 2) :\n",
    "            model.add(tf.keras.layers.Dropout(args.dropout_rate))\n",
    "        \n",
    "    model.add(tf.keras.layers.Dense(10, activation='softmax'))\n",
    "    \n",
    "    model.compile(optimizer=tf.keras.optimizers.Adam(lr=args.learning_rate),\n",
    "                  loss='sparse_categorical_crossentropy',\n",
    "                  metrics=['acc'])\n",
    "    \n",
    "    model.summary()    \n",
    "    \n",
    "    # 체크포인트를 저장할 체크포인트 디렉터리를 지정합니다.\n",
    "    checkpoint_dir = args.checkpoint_dir\n",
    "    # 체크포인트 파일의 이름\n",
    "    checkpoint_prefix = os.path.join(checkpoint_dir, \"ckpt_{epoch}\")        \n",
    "\n",
    "    model.fit(x_train, y_train,\n",
    "              verbose=0,\n",
    "              validation_data=(x_test, y_test),\n",
    "              epochs=args.epoch,\n",
    "              callbacks=[KatibMetricLog(),\n",
    "                        tf.keras.callbacks.TensorBoard(log_dir=args.tensorboard_log),\n",
    "                        tf.keras.callbacks.ModelCheckpoint(filepath=checkpoint_prefix,\n",
    "                               save_weights_only=True)\n",
    "                        ])\n",
    "    \n",
    "    path = args.saved_model_dir + \"/\" + args.model_version        \n",
    "    model.save(path, save_format='tf')"
   ]
  },
  {
   "cell_type": "code",
   "execution_count": 3,
   "metadata": {},
   "outputs": [],
   "source": [
    "class KatibMetricLog(Callback):\n",
    "    def on_batch_end(self, batch, logs={}):\n",
    "        print(\"batch=\" + str(batch),\n",
    "              \"accuracy=\" + str(logs.get('acc')),\n",
    "              \"loss=\" + str(logs.get('loss')))\n",
    "    def on_epoch_begin(self, epoch, logs={}):\n",
    "        print(\"epoch \" + str(epoch) + \":\")\n",
    "    \n",
    "    def on_epoch_end(self, epoch, logs={}):\n",
    "        print(\"Validation-accuracy=\" + str(logs.get('val_acc')),\n",
    "              \"Validation-loss=\" + str(logs.get('val_loss')))\n",
    "        return"
   ]
  },
  {
   "cell_type": "code",
   "execution_count": null,
   "metadata": {},
   "outputs": [
    {
     "name": "stderr",
     "output_type": "stream",
     "text": [
      "[I 200926 22:35:20 config:134] Using preprocessor: <kubeflow.fairing.preprocessors.converted_notebook.ConvertNotebookPreprocessor object at 0x7fc67c1995f8>\n",
      "[I 200926 22:35:20 config:136] Using builder: <kubeflow.fairing.builders.append.append.AppendBuilder object at 0x7fc67c1cdf28>\n",
      "[I 200926 22:35:20 config:138] Using deployer: <kubeflow.fairing.deployers.job.job.Job object at 0x7fc67eaa5ef0>\n",
      "[W 200926 22:35:20 append:50] Building image using Append builder...\n",
      "[I 200926 22:35:20 base:107] Creating docker context: /tmp/fairing_context_v8mudhdb\n",
      "[I 200926 22:35:20 converted_notebook:127] Converting fmnist-save-model.ipynb to fmnist-save-model.py\n",
      "[I 200926 22:35:20 docker_creds_:234] Loading Docker credentials for repository 'brightfly/kubeflow-jupyter-lab:tf2.0-gpu'\n",
      "[W 200926 22:35:23 append:54] Image successfully built in 3.316979857016122s.\n",
      "[W 200926 22:35:23 append:94] Pushing image kubeflow-registry.default.svc.cluster.local:30000/katib-job:5FEC6E94...\n",
      "[I 200926 22:35:23 docker_creds_:234] Loading Docker credentials for repository 'kubeflow-registry.default.svc.cluster.local:30000/katib-job:5FEC6E94'\n",
      "[W 200926 22:35:23 append:81] Uploading kubeflow-registry.default.svc.cluster.local:30000/katib-job:5FEC6E94\n",
      "[I 200926 22:35:24 docker_session_:284] Layer sha256:57418a6dc9496eeb6c9324e7bdf6fd48b9e1ac25cb473bf7b71f40d44e2f1e64 pushed.\n",
      "[I 200926 22:35:24 docker_session_:284] Layer sha256:c73ad65f0763fc76b21c650ff9a5d7f4714c30a3dc27f462aa478c829a8efed1 pushed.\n",
      "[I 200926 22:35:24 docker_session_:284] Layer sha256:3f21dade8aa5a7b3f7d62f631994bb9dfea7ffe78bf08e1e86812c54efe58dad pushed.\n",
      "[I 200926 22:35:25 docker_session_:284] Layer sha256:c592fdfb0e51000077def684bbdd097d6d870e62ae94418ba81a3468b03ec833 pushed.\n",
      "[I 200926 22:35:26 docker_session_:284] Layer sha256:19da0d7f2336bb74327dd5c11495a8bb86a8f45994b1029b4d6ce18b4b1f6859 pushed.\n",
      "[I 200926 22:35:26 docker_session_:284] Layer sha256:251f5509d51d9e4119d4ffb70d4820f8e2d7dc72ad15df3ebd7cd755539e40fd pushed.\n",
      "[I 200926 22:35:27 docker_session_:284] Layer sha256:b0a15f35c371773fb2237091edb340a15cf0e8615de8c9d8c4b8830c35a40265 pushed.\n",
      "[I 200926 22:35:28 docker_session_:284] Layer sha256:308e2d038b5334fb2ec9872230cfabd52b26102f6c8e0e257f3dcd63cc3b7177 pushed.\n",
      "[I 200926 22:36:04 docker_session_:284] Layer sha256:180c1b9ae1a5a2a4aba2e08646155b250793be7a97a21556f2c4383f35510f14 pushed.\n",
      "[I 200926 22:36:04 docker_session_:284] Layer sha256:947e0f532378ce4f91ff44af563f21f5679d39a28efa2541594dd3f96730edb0 pushed.\n"
     ]
    }
   ],
   "source": [
    "if __name__ == '__main__':\n",
    "    if os.getenv('FAIRING_RUNTIME', None) is None:\n",
    "        from kubeflow import fairing\n",
    "        from kubeflow.fairing.kubernetes import utils as k8s_utils\n",
    "\n",
    "        DOCKER_REGISTRY = 'kubeflow-registry.default.svc.cluster.local:30000'\n",
    "        fairing.config.set_builder(\n",
    "            'append',\n",
    "            image_name='katib-job',\n",
    "            base_image='brightfly/kubeflow-jupyter-lab:tf2.0-gpu',\n",
    "            registry=DOCKER_REGISTRY, \n",
    "            push=True)\n",
    "        # cpu 2, memory 5GiB\n",
    "        fairing.config.set_deployer('job',\n",
    "                                    namespace='koock',\n",
    "                                    pod_spec_mutators=[\n",
    "                                        k8s_utils.mounting_pvc(pvc_name=\"fashion-mnist\", \n",
    "                                                              pvc_mount_path=\"/result\"),\n",
    "                                        k8s_utils.get_resource_mutator(cpu=2,\n",
    "                                                                       memory=5)]\n",
    "         \n",
    "                                   )\n",
    "        fairing.config.run()\n",
    "    else:\n",
    "        remote_train = MyFashionMnist()\n",
    "        remote_train.train()"
   ]
  },
  {
   "cell_type": "code",
   "execution_count": null,
   "metadata": {},
   "outputs": [],
   "source": []
  }
 ],
 "metadata": {
  "kernelspec": {
   "display_name": "Python 3",
   "language": "python",
   "name": "python3"
  },
  "language_info": {
   "codemirror_mode": {
    "name": "ipython",
    "version": 3
   },
   "file_extension": ".py",
   "mimetype": "text/x-python",
   "name": "python",
   "nbconvert_exporter": "python",
   "pygments_lexer": "ipython3",
   "version": "3.6.12"
  }
 },
 "nbformat": 4,
 "nbformat_minor": 4
}
