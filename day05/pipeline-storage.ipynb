{
 "cells": [
  {
   "cell_type": "code",
   "execution_count": 1,
   "metadata": {},
   "outputs": [],
   "source": [
    "import kfp\n",
    "from kfp import dsl"
   ]
  },
  {
   "cell_type": "code",
   "execution_count": 2,
   "metadata": {},
   "outputs": [],
   "source": [
    "@dsl.pipeline(\n",
    "    name='AttachStorage',\n",
    "    description='Create a pvc, attach it to pipeline.'\n",
    ")\n",
    "def attatch_pvc_pipeline():\n",
    "    \n",
    "    vop = dsl.VolumeOp(\n",
    "        name=\"volume_creation\",\n",
    "        resource_name=\"vol-a\",\n",
    "        storage_class=\"nfs-client\",\n",
    "        modes=dsl.VOLUME_MODE_RWM,\n",
    "        size=\"1Gi\"\n",
    "    )\n",
    "    \n",
    "    cop1 = dsl.ContainerOp(\n",
    "        name='HelloKubeflow',\n",
    "        image='alpine',\n",
    "        command=['sh', '-c'],\n",
    "        arguments=['echo \"hello Kubeflow\" > /mnt/content.txt'],\n",
    "        pvolumes={\"/mnt\": vop.volume}\n",
    "    )\n",
    "    \n",
    "    cop2 = dsl.ContainerOp(\n",
    "        name='cat-content',\n",
    "        image='alpine',\n",
    "        command=['cat'],\n",
    "        arguments=['/mnt/content.txt'],\n",
    "        pvolumes={\"/mnt\": vop.volume}\n",
    "    )\n",
    "\n",
    "    cop1.after(vop)\n",
    "    cop2.after(cop1)"
   ]
  },
  {
   "cell_type": "code",
   "execution_count": 3,
   "metadata": {},
   "outputs": [
    {
     "data": {
      "text/html": [
       "Experiment link <a href=\"/pipeline/#/experiments/details/2752bf8c-4fc9-42a2-83f3-5c4f0245945b\" target=\"_blank\" >here</a>"
      ],
      "text/plain": [
       "<IPython.core.display.HTML object>"
      ]
     },
     "metadata": {},
     "output_type": "display_data"
    },
    {
     "data": {
      "text/html": [
       "Run link <a href=\"/pipeline/#/runs/details/78a34c23-69f9-4356-a585-921db2526fd5\" target=\"_blank\" >here</a>"
      ],
      "text/plain": [
       "<IPython.core.display.HTML object>"
      ]
     },
     "metadata": {},
     "output_type": "display_data"
    }
   ],
   "source": [
    "if __name__ == '__main__':\n",
    "    #kfp.compiler.Compiler().compile(attatch_pvc_pipeline, 'pipeline_storage' + '.yaml')\n",
    "    kfp.Client().create_run_from_pipeline_func(pipeline_func=attatch_pvc_pipeline,arguments={})"
   ]
  },
  {
   "cell_type": "code",
   "execution_count": null,
   "metadata": {},
   "outputs": [],
   "source": []
  }
 ],
 "metadata": {
  "kernelspec": {
   "display_name": "Python 3",
   "language": "python",
   "name": "python3"
  },
  "language_info": {
   "codemirror_mode": {
    "name": "ipython",
    "version": 3
   },
   "file_extension": ".py",
   "mimetype": "text/x-python",
   "name": "python",
   "nbconvert_exporter": "python",
   "pygments_lexer": "ipython3",
   "version": "3.6.12"
  }
 },
 "nbformat": 4,
 "nbformat_minor": 4
}
