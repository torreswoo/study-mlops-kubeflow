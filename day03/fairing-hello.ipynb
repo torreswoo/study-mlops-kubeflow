{
 "cells": [
  {
   "cell_type": "code",
   "execution_count": 1,
   "metadata": {},
   "outputs": [],
   "source": [
    "import os\n",
    "import tensorflow as tf"
   ]
  },
  {
   "cell_type": "code",
   "execution_count": 2,
   "metadata": {},
   "outputs": [],
   "source": [
    "def hello():\n",
    "    hello_tensor = tf.constant(\"hello world\")\n",
    "    print(hello_tensor)\n",
    "    \n",
    "    print(hello_tensor.numpy())\n",
    "    print(hello_tensor.numpy().decode('utf-8'))\n",
    "    "
   ]
  },
  {
   "cell_type": "code",
   "execution_count": 3,
   "metadata": {},
   "outputs": [
    {
     "name": "stderr",
     "output_type": "stream",
     "text": [
      "[I 200924 05:02:55 config:134] Using preprocessor: <kubeflow.fairing.preprocessors.converted_notebook.ConvertNotebookPreprocessor object at 0x7f8d701afda0>\n",
      "[I 200924 05:02:55 config:136] Using builder: <kubeflow.fairing.builders.append.append.AppendBuilder object at 0x7f8d701625f8>\n",
      "[I 200924 05:02:55 config:138] Using deployer: <kubeflow.fairing.deployers.job.job.Job object at 0x7f8d70162630>\n",
      "[W 200924 05:02:55 append:50] Building image using Append builder...\n",
      "[I 200924 05:02:55 base:107] Creating docker context: /tmp/fairing_context_idj2rlzr\n",
      "[I 200924 05:02:55 converted_notebook:127] Converting hello-fairing.ipynb to hello-fairing.py\n",
      "[I 200924 05:02:55 docker_creds_:234] Loading Docker credentials for repository 'kubeflow-registry.default.svc.cluster.local:30000/kubeflow-jupyterlab:tf2.3-cpu'\n"
     ]
    },
    {
     "name": "stdout",
     "output_type": "stream",
     "text": [
      "Executing helle-fairing.py remotely.\n"
     ]
    },
    {
     "name": "stderr",
     "output_type": "stream",
     "text": [
      "[W 200924 05:02:56 append:54] Image successfully built in 0.37826341700565536s.\n",
      "[W 200924 05:02:56 append:94] Pushing image kubeflow-registry.default.svc.cluster.local:30000/fairing-job:AC10BE68...\n",
      "[I 200924 05:02:56 docker_creds_:234] Loading Docker credentials for repository 'kubeflow-registry.default.svc.cluster.local:30000/fairing-job:AC10BE68'\n",
      "[W 200924 05:02:56 append:81] Uploading kubeflow-registry.default.svc.cluster.local:30000/fairing-job:AC10BE68\n",
      "[I 200924 05:02:56 docker_session_:280] Layer sha256:03f1c9932170e54fface2382b2550b8052ae3d41f27e66ea1294e2055dd2b2e7 exists, skipping\n",
      "[I 200924 05:02:56 docker_session_:280] Layer sha256:162516aa9380468f03eb16eba673cdf6f1b2dbd679d946be3609e16cc89e68b4 exists, skipping\n",
      "[I 200924 05:02:56 docker_session_:280] Layer sha256:8fea423e1867dca4ffa552384f895ee65dcbbf67a325f35f58f4534651f0d1b2 exists, skipping\n",
      "[I 200924 05:02:56 docker_session_:280] Layer sha256:2def44532935ecfdc600af37c2d2e3131d2e1dabc3a21a3e7fefa4bb751d7338 exists, skipping\n",
      "[I 200924 05:02:56 docker_session_:280] Layer sha256:f355d2a41bb67030268a575f388f0b046b524f194ffe6bfe49c4c7b09847ca5a exists, skipping\n",
      "[I 200924 05:02:56 docker_session_:280] Layer sha256:65b3db15f518f11e53c95664d0675a5d78a5329d18d5316a406c2a45907a0723 exists, skipping\n",
      "[I 200924 05:02:56 docker_session_:280] Layer sha256:a717a819cd2afbfacf19d40fed9335e59fbc442db3992bb62a039edbcb267f94 exists, skipping\n",
      "[I 200924 05:02:56 docker_session_:280] Layer sha256:850581be87f324c7b6f7d1c27b379793434517f3d4a5df97a9b859accbbaa7d0 exists, skipping\n",
      "[I 200924 05:02:56 docker_session_:280] Layer sha256:9d9bb3e3e797e631610a6d9cb20cf529999b24946b3e53006e765788603185bf exists, skipping\n",
      "[I 200924 05:02:56 docker_session_:280] Layer sha256:d0c5a0f9d9dd5076981ffa0516a8ed41beebd1ad0cbeac9e21b7c06e391d45d0 exists, skipping\n",
      "[I 200924 05:02:56 docker_session_:280] Layer sha256:81e673dd72e62ab9f24089315a6d18461c5ea138776ca84f8d1cb1e3dd90191f exists, skipping\n",
      "[I 200924 05:02:56 docker_session_:280] Layer sha256:1af28a55c3f320826db8df3146a2c198f9042877ef679f9e32210aa9a7fac9ef exists, skipping\n",
      "[I 200924 05:02:56 docker_session_:280] Layer sha256:ff78e32c658ab641b46f8aebbd3a290c3b1cb7ba108fae7d30c20fb032a62861 exists, skipping\n",
      "[I 200924 05:02:56 docker_session_:280] Layer sha256:2b0c22ff795d449839c81392de44b23b2f31b18696744480aa3835168bc088ef exists, skipping\n",
      "[I 200924 05:02:56 docker_session_:280] Layer sha256:8623dd73d22fa1b9277d2d27e6987437185e21f24a7319eeec739b62999aa62a exists, skipping\n",
      "[I 200924 05:02:56 docker_session_:280] Layer sha256:57df1a1f1ad841deaf50c8f662d77e93b4b17af776ed66148116607f9aceffa8 exists, skipping\n",
      "[I 200924 05:02:56 docker_session_:280] Layer sha256:cb0d06c13dc639c061c93d5d523ec7c9a353f8681f6442eec0ade7e9050710ce exists, skipping\n",
      "[I 200924 05:02:56 docker_session_:280] Layer sha256:2171e586617ffd23bd20b8351565f6e7cc8d23964a5e86163054a758770fc7c8 exists, skipping\n",
      "[I 200924 05:02:56 docker_session_:280] Layer sha256:71e126169501d71bbbd0d3c8d9f35836c41660869fe8432ac606341ed21f7adb exists, skipping\n",
      "[I 200924 05:02:56 docker_session_:280] Layer sha256:dd2f0204312f1023b1eaea78b62a603bc070debea0859c366ab74336d2b3f837 exists, skipping\n",
      "[I 200924 05:02:56 docker_session_:280] Layer sha256:fef422dc3d908298b541031cf25510dd420d2b636d940aab277c4b8142e2bcea exists, skipping\n",
      "[I 200924 05:02:56 docker_session_:280] Layer sha256:a72a02a55e5c043c4e0c02b0e8fc5d57952be83e28b8d5111abbfa837dc8fa6b exists, skipping\n",
      "[I 200924 05:02:56 docker_session_:280] Layer sha256:efede69293d40574c55c651a5b7a2bf9ed487fa29a3ff0c25913e9245453028b exists, skipping\n",
      "[I 200924 05:02:56 docker_session_:280] Layer sha256:866aefa779b4a90e95e59ad3d3410446bdb9cb67e0d29d8bc55b712a13fe2bf5 exists, skipping\n",
      "[I 200924 05:02:56 docker_session_:280] Layer sha256:3565026baf3518bacfcf949f35a64fadd9c6c3bfc0551a17ce6743377a62ae57 exists, skipping\n",
      "[I 200924 05:02:56 docker_session_:280] Layer sha256:929996ac2c7fdf4ac00185fc19406afec64472bb5574c5eb4d2682075d9ec452 exists, skipping\n",
      "[I 200924 05:02:56 docker_session_:280] Layer sha256:ddbebab167359b094e82650f6e3b7469387105a77a121c0fe203bd2fb5ac58fa exists, skipping\n",
      "[I 200924 05:02:56 docker_session_:284] Layer sha256:a79f806ec0a9f2a9c17bd127f638e09fcfe1e017ef843b51ee7ef2d1858937b4 pushed.\n",
      "[I 200924 05:02:57 docker_session_:284] Layer sha256:01cf427bc4bd01d8bb0805611c8e5f88410f8837b02a2df9d403d1793068bf14 pushed.\n",
      "[I 200924 05:02:57 docker_session_:334] Finished upload of: kubeflow-registry.default.svc.cluster.local:30000/fairing-job:AC10BE68\n",
      "[W 200924 05:02:57 append:99] Pushed image kubeflow-registry.default.svc.cluster.local:30000/fairing-job:AC10BE68 in 0.9701206809986616s.\n",
      "[W 200924 05:02:57 job:101] The job fairing-job-wr8qv launched.\n",
      "[W 200924 05:02:57 manager:296] Waiting for fairing-job-wr8qv-9pflg to start...\n",
      "[W 200924 05:02:57 manager:296] Waiting for fairing-job-wr8qv-9pflg to start...\n",
      "[W 200924 05:02:57 manager:296] Waiting for fairing-job-wr8qv-9pflg to start...\n",
      "[W 200924 05:02:58 manager:296] Waiting for fairing-job-wr8qv-9pflg to start...\n",
      "[I 200924 05:02:59 manager:302] Pod started running True\n"
     ]
    },
    {
     "name": "stdout",
     "output_type": "stream",
     "text": [
      "2020-09-24 05:03:01.310862: I tensorflow/core/platform/cpu_feature_guard.cc:142] This TensorFlow binary is optimized with oneAPI Deep Neural Network Library (oneDNN)to use the following CPU instructions in performance-critical operations:  AVX2 FMA\n",
      "To enable them in other operations, rebuild TensorFlow with the appropriate compiler flags.\n",
      "2020-09-24 05:03:01.319501: I tensorflow/core/platform/profile_utils/cpu_utils.cc:104] CPU Frequency: 2497120000 Hz\n",
      "2020-09-24 05:03:01.319840: I tensorflow/compiler/xla/service/service.cc:168] XLA service 0x556d998c11a0 initialized for platform Host (this does not guarantee that XLA will be used). Devices:\n",
      "2020-09-24 05:03:01.319863: I tensorflow/compiler/xla/service/service.cc:176]   StreamExecutor device (0): Host, Default Version\n",
      "tf.Tensor(b'hello world', shape=(), dtype=string)\n",
      "b'hello world'\n",
      "hello world\n"
     ]
    },
    {
     "name": "stderr",
     "output_type": "stream",
     "text": [
      "[W 200924 05:03:02 job:173] Cleaning up job fairing-job-wr8qv...\n"
     ]
    }
   ],
   "source": [
    "if __name__ == '__main__':\n",
    "    if os.getenv('FAIRING_RUNTIME',None):\n",
    "        hello()\n",
    "    else:\n",
    "        from kubeflow import fairing\n",
    "        DOCKER_REGISTRY = \"kubeflow-registry.default.svc.cluster.local:30000\"\n",
    "        filename = os.path.basename('helle-fairing.py')\n",
    "        print(\"Executing {} remotely.\".format(filename))\n",
    "        fairing.config.set_preprocessor('notebook',\n",
    "                                        notebook_file='hello-fairing.ipynb')\n",
    "        fairing.config.set_builder('append',\n",
    "                                   base_image='kubeflow-registry.default.svc.cluster.local:30000/kubeflow-jupyterlab:tf2.3-cpu',\n",
    "                                   registry=DOCKER_REGISTRY,\n",
    "                                   push=True)\n",
    "        fairing.config.run()"
   ]
  },
  {
   "cell_type": "code",
   "execution_count": 15,
   "metadata": {},
   "outputs": [],
   "source": [
    "from cloudpickle.compat import pickle"
   ]
  },
  {
   "cell_type": "code",
   "execution_count": null,
   "metadata": {},
   "outputs": [],
   "source": []
  }
 ],
 "metadata": {
  "kernelspec": {
   "display_name": "Python 3",
   "language": "python",
   "name": "python3"
  },
  "language_info": {
   "codemirror_mode": {
    "name": "ipython",
    "version": 3
   },
   "file_extension": ".py",
   "mimetype": "text/x-python",
   "name": "python",
   "nbconvert_exporter": "python",
   "pygments_lexer": "ipython3",
   "version": "3.6.12"
  }
 },
 "nbformat": 4,
 "nbformat_minor": 4
}
