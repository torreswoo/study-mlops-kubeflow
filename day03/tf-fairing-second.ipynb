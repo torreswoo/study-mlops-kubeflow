{
 "cells": [
  {
   "cell_type": "code",
   "execution_count": 1,
   "metadata": {},
   "outputs": [],
   "source": [
    "import tensorflow as tf\n",
    "import os\n",
    "from tensorflow.keras.layers import Dense, Flatten, Conv2D\n",
    "from tensorflow.keras import Model"
   ]
  },
  {
   "cell_type": "code",
   "execution_count": 2,
   "metadata": {},
   "outputs": [],
   "source": [
    "\n",
    "def get_dataset():\n",
    "    mnist = tf.keras.datasets.mnist\n",
    "\n",
    "    (x_train, y_train), (x_test, y_test) = mnist.load_data()\n",
    "    x_train, x_test = x_train / 255.0, x_test / 255.0\n",
    "\n",
    "    # 채널 차원을 추가합니다.\n",
    "    x_train = x_train[..., tf.newaxis]\n",
    "    x_test = x_test[..., tf.newaxis]\n",
    "    train_ds = tf.data.Dataset.from_tensor_slices(\n",
    "    (x_train, y_train)).shuffle(10000).batch(32)\n",
    "    test_ds = tf.data.Dataset.from_tensor_slices((x_test, y_test)).batch(32)\n",
    "    return train_ds, test_ds"
   ]
  },
  {
   "cell_type": "code",
   "execution_count": 3,
   "metadata": {},
   "outputs": [],
   "source": [
    "class MyModel(Model):\n",
    "  def __init__(self):\n",
    "    super(MyModel, self).__init__()\n",
    "    self.conv1 = Conv2D(32, 3, activation='relu')\n",
    "    self.flatten = Flatten()\n",
    "    self.d1 = Dense(128, activation='relu')\n",
    "    self.d2 = Dense(10, activation='softmax')\n",
    "\n",
    "  def call(self, x):\n",
    "    x = self.conv1(x)\n",
    "    x = self.flatten(x)\n",
    "    x = self.d1(x)\n",
    "    return self.d2(x)\n",
    "\n",
    "model = MyModel()"
   ]
  },
  {
   "cell_type": "code",
   "execution_count": 4,
   "metadata": {},
   "outputs": [],
   "source": [
    "loss_object = tf.keras.losses.SparseCategoricalCrossentropy()\n",
    "\n",
    "optimizer = tf.keras.optimizers.Adam()"
   ]
  },
  {
   "cell_type": "code",
   "execution_count": 5,
   "metadata": {},
   "outputs": [],
   "source": [
    "train_loss = tf.keras.metrics.Mean(name='train_loss')\n",
    "train_accuracy = tf.keras.metrics.SparseCategoricalAccuracy(name='train_accuracy')\n",
    "\n",
    "test_loss = tf.keras.metrics.Mean(name='test_loss')\n",
    "test_accuracy = tf.keras.metrics.SparseCategoricalAccuracy(name='test_accuracy')"
   ]
  },
  {
   "cell_type": "code",
   "execution_count": 6,
   "metadata": {},
   "outputs": [],
   "source": [
    "@tf.function\n",
    "def train_step(images, labels):\n",
    "  with tf.GradientTape() as tape:\n",
    "    predictions = model(images)\n",
    "    loss = loss_object(labels, predictions)\n",
    "  gradients = tape.gradient(loss, model.trainable_variables)\n",
    "  optimizer.apply_gradients(zip(gradients, model.trainable_variables))\n",
    "\n",
    "  train_loss(loss)\n",
    "  train_accuracy(labels, predictions)"
   ]
  },
  {
   "cell_type": "code",
   "execution_count": 7,
   "metadata": {},
   "outputs": [],
   "source": [
    "@tf.function\n",
    "def test_step(images, labels):\n",
    "  predictions = model(images)\n",
    "  t_loss = loss_object(labels, predictions)\n",
    "\n",
    "  test_loss(t_loss)\n",
    "  test_accuracy(labels, predictions)"
   ]
  },
  {
   "cell_type": "code",
   "execution_count": 8,
   "metadata": {},
   "outputs": [],
   "source": [
    "EPOCHS = 5\n",
    "\n",
    "def train():\n",
    "    train_ds, test_ds = get_dataset()\n",
    "    for epoch in range(EPOCHS):\n",
    "      for images, labels in train_ds:\n",
    "        train_step(images, labels)\n",
    "\n",
    "      for test_images, test_labels in test_ds:\n",
    "        test_step(test_images, test_labels)\n",
    "\n",
    "      template = '에포크: {}, 손실: {}, 정확도: {}, 테스트 손실: {}, 테스트 정확도: {}'\n",
    "      print (template.format(epoch+1,\n",
    "                             train_loss.result(),\n",
    "                             train_accuracy.result()*100,\n",
    "                             test_loss.result(),\n",
    "                             test_accuracy.result()*100))"
   ]
  },
  {
   "cell_type": "code",
   "execution_count": 9,
   "metadata": {},
   "outputs": [
    {
     "name": "stderr",
     "output_type": "stream",
     "text": [
      "[W 200924 05:45:59 append:50] Building image using Append builder...\n",
      "[I 200924 05:45:59 base:107] Creating docker context: /tmp/fairing_context_gh1ygfu3\n",
      "[I 200924 05:45:59 converted_notebook:127] Converting second-tf-fairing.ipynb to second-tf-fairing.py\n",
      "[I 200924 05:46:00 docker_creds_:234] Loading Docker credentials for repository 'kubeflow-registry.default.svc.cluster.local:30000/kubeflow-jupyterlab:tf2.3-cpu'\n",
      "[W 200924 05:46:00 append:54] Image successfully built in 0.41043986700242385s.\n",
      "[W 200924 05:46:00 append:94] Pushing image kubeflow-registry.default.svc.cluster.local:30000/fairing-job:95B7C6D6...\n",
      "[I 200924 05:46:00 docker_creds_:234] Loading Docker credentials for repository 'kubeflow-registry.default.svc.cluster.local:30000/fairing-job:95B7C6D6'\n",
      "[W 200924 05:46:00 append:81] Uploading kubeflow-registry.default.svc.cluster.local:30000/fairing-job:95B7C6D6\n",
      "[I 200924 05:46:00 docker_session_:280] Layer sha256:866aefa779b4a90e95e59ad3d3410446bdb9cb67e0d29d8bc55b712a13fe2bf5 exists, skipping\n",
      "[I 200924 05:46:00 docker_session_:280] Layer sha256:ddbebab167359b094e82650f6e3b7469387105a77a121c0fe203bd2fb5ac58fa exists, skipping\n",
      "[I 200924 05:46:00 docker_session_:280] Layer sha256:efede69293d40574c55c651a5b7a2bf9ed487fa29a3ff0c25913e9245453028b exists, skipping\n",
      "[I 200924 05:46:00 docker_session_:280] Layer sha256:71e126169501d71bbbd0d3c8d9f35836c41660869fe8432ac606341ed21f7adb exists, skipping\n",
      "[I 200924 05:46:00 docker_session_:280] Layer sha256:dd2f0204312f1023b1eaea78b62a603bc070debea0859c366ab74336d2b3f837 exists, skipping\n",
      "[I 200924 05:46:00 docker_session_:280] Layer sha256:a72a02a55e5c043c4e0c02b0e8fc5d57952be83e28b8d5111abbfa837dc8fa6b exists, skipping\n",
      "[I 200924 05:46:00 docker_session_:280] Layer sha256:cb0d06c13dc639c061c93d5d523ec7c9a353f8681f6442eec0ade7e9050710ce exists, skipping\n",
      "[I 200924 05:46:00 docker_session_:280] Layer sha256:929996ac2c7fdf4ac00185fc19406afec64472bb5574c5eb4d2682075d9ec452 exists, skipping\n",
      "[I 200924 05:46:00 docker_session_:280] Layer sha256:3565026baf3518bacfcf949f35a64fadd9c6c3bfc0551a17ce6743377a62ae57 exists, skipping\n",
      "[I 200924 05:46:00 docker_session_:280] Layer sha256:65b3db15f518f11e53c95664d0675a5d78a5329d18d5316a406c2a45907a0723 exists, skipping\n",
      "[I 200924 05:46:00 docker_session_:280] Layer sha256:2def44532935ecfdc600af37c2d2e3131d2e1dabc3a21a3e7fefa4bb751d7338 exists, skipping\n",
      "[I 200924 05:46:00 docker_session_:280] Layer sha256:03f1c9932170e54fface2382b2550b8052ae3d41f27e66ea1294e2055dd2b2e7 exists, skipping\n",
      "[I 200924 05:46:00 docker_session_:280] Layer sha256:9d9bb3e3e797e631610a6d9cb20cf529999b24946b3e53006e765788603185bf exists, skipping\n",
      "[I 200924 05:46:00 docker_session_:280] Layer sha256:8623dd73d22fa1b9277d2d27e6987437185e21f24a7319eeec739b62999aa62a exists, skipping\n",
      "[I 200924 05:46:00 docker_session_:280] Layer sha256:f355d2a41bb67030268a575f388f0b046b524f194ffe6bfe49c4c7b09847ca5a exists, skipping\n",
      "[I 200924 05:46:00 docker_session_:280] Layer sha256:a717a819cd2afbfacf19d40fed9335e59fbc442db3992bb62a039edbcb267f94 exists, skipping\n",
      "[I 200924 05:46:00 docker_session_:280] Layer sha256:81e673dd72e62ab9f24089315a6d18461c5ea138776ca84f8d1cb1e3dd90191f exists, skipping\n",
      "[I 200924 05:46:00 docker_session_:280] Layer sha256:2171e586617ffd23bd20b8351565f6e7cc8d23964a5e86163054a758770fc7c8 exists, skipping\n",
      "[I 200924 05:46:00 docker_session_:280] Layer sha256:162516aa9380468f03eb16eba673cdf6f1b2dbd679d946be3609e16cc89e68b4 exists, skipping\n",
      "[I 200924 05:46:00 docker_session_:280] Layer sha256:8fea423e1867dca4ffa552384f895ee65dcbbf67a325f35f58f4534651f0d1b2 exists, skipping\n",
      "[I 200924 05:46:00 docker_session_:280] Layer sha256:2b0c22ff795d449839c81392de44b23b2f31b18696744480aa3835168bc088ef exists, skipping\n",
      "[I 200924 05:46:00 docker_session_:280] Layer sha256:d0c5a0f9d9dd5076981ffa0516a8ed41beebd1ad0cbeac9e21b7c06e391d45d0 exists, skipping\n",
      "[I 200924 05:46:00 docker_session_:280] Layer sha256:ff78e32c658ab641b46f8aebbd3a290c3b1cb7ba108fae7d30c20fb032a62861 exists, skipping\n",
      "[I 200924 05:46:00 docker_session_:280] Layer sha256:57df1a1f1ad841deaf50c8f662d77e93b4b17af776ed66148116607f9aceffa8 exists, skipping\n",
      "[I 200924 05:46:00 docker_session_:280] Layer sha256:1af28a55c3f320826db8df3146a2c198f9042877ef679f9e32210aa9a7fac9ef exists, skipping\n",
      "[I 200924 05:46:00 docker_session_:280] Layer sha256:850581be87f324c7b6f7d1c27b379793434517f3d4a5df97a9b859accbbaa7d0 exists, skipping\n",
      "[I 200924 05:46:00 docker_session_:280] Layer sha256:fef422dc3d908298b541031cf25510dd420d2b636d940aab277c4b8142e2bcea exists, skipping\n",
      "[I 200924 05:46:00 docker_session_:284] Layer sha256:11e62831977172cf890bcc8ade8ff4d7e60043cd10b89180d1c49257dc5c06a8 pushed.\n",
      "[I 200924 05:46:01 docker_session_:284] Layer sha256:fe7d46b3310c126c7e64aebeaf9f9f9394ff4382ed72abeab6ff81a9117bbc26 pushed.\n",
      "[I 200924 05:46:01 docker_session_:334] Finished upload of: kubeflow-registry.default.svc.cluster.local:30000/fairing-job:95B7C6D6\n",
      "[W 200924 05:46:01 append:99] Pushed image kubeflow-registry.default.svc.cluster.local:30000/fairing-job:95B7C6D6 in 1.6213623980002012s.\n"
     ]
    }
   ],
   "source": [
    "if __name__ == '__main__':\n",
    "    if os.getenv('FAIRING_RUNTIME',None):\n",
    "        train()\n",
    "    else:\n",
    "        from kubeflow.fairing.builders.append.append import AppendBuilder\n",
    "        from kubeflow.fairing.preprocessors.converted_notebook import             ConvertNotebookPreprocessor\n",
    "\n",
    "        DOCKER_REGISTRY = 'kubeflow-registry.default.svc.cluster.local:30000'\n",
    "        base_image = 'kubeflow-registry.default.svc.cluster.local:30000/kubeflow-jupyterlab:tf2.3-cpu'\n",
    "        image_name = 'fairing-job'\n",
    "\n",
    "        builder = AppendBuilder(\n",
    "            registry=DOCKER_REGISTRY,\n",
    "            image_name=image_name,\n",
    "            base_image=base_image,\n",
    "            push=True,\n",
    "            preprocessor=ConvertNotebookPreprocessor(\n",
    "                notebook_file=\"second-tf-fairing.ipynb\"\n",
    "            )\n",
    "        )\n",
    "        builder.build()\n",
    "        "
   ]
  },
  {
   "cell_type": "code",
   "execution_count": null,
   "metadata": {},
   "outputs": [],
   "source": []
  }
 ],
 "metadata": {
  "kernelspec": {
   "display_name": "Python 3",
   "language": "python",
   "name": "python3"
  },
  "language_info": {
   "codemirror_mode": {
    "name": "ipython",
    "version": 3
   },
   "file_extension": ".py",
   "mimetype": "text/x-python",
   "name": "python",
   "nbconvert_exporter": "python",
   "pygments_lexer": "ipython3",
   "version": "3.6.12"
  }
 },
 "nbformat": 4,
 "nbformat_minor": 4
}
